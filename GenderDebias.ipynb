{
 "cells": [
  {
   "cell_type": "code",
   "execution_count": 1,
   "metadata": {
    "collapsed": true
   },
   "outputs": [],
   "source": [
    "import numpy as np\n"
   ]
  },
  {
   "cell_type": "code",
   "execution_count": 2,
   "metadata": {
    "collapsed": true
   },
   "outputs": [],
   "source": [
    "word_vec_dict = {}\n",
    "\n",
    "with open('glove.6B.50d.txt','r', encoding='utf-8') as f:\n",
    "    vocab = set()\n",
    "    \n",
    "    for line in f:\n",
    "        line = line.strip().split()\n",
    "        vocab.add(line[0])\n",
    "        word_vec_dict[line[0]] = np.array(line[1:], dtype=np.float64)\n",
    "    "
   ]
  },
  {
   "cell_type": "code",
   "execution_count": 3,
   "metadata": {
    "collapsed": true
   },
   "outputs": [],
   "source": [
    "def cosine_similarity(u, v):\n",
    "    \n",
    "    norm_u = np.linalg.norm(u)\n",
    "    norm_v = np.linalg.norm(v)\n",
    "    \n",
    "    cos_theta = np.dot(u, v) / (norm_u * norm_v)\n",
    "    \n",
    "    return cos_theta\n",
    "\n"
   ]
  },
  {
   "cell_type": "code",
   "execution_count": 4,
   "metadata": {
    "collapsed": true
   },
   "outputs": [],
   "source": [
    "gender_vec = word_vec_dict['woman'] - word_vec_dict['man']"
   ]
  },
  {
   "cell_type": "code",
   "execution_count": 7,
   "metadata": {
    "collapsed": true
   },
   "outputs": [],
   "source": [
    "def gender_debias(word, word_vec_dict, gender_vec):\n",
    "    \n",
    "    word_embed = word_vec_dict[word]\n",
    "    embed_bias_component = (np.dot(word_embed, gender_vec) / (np.linalg.norm(gender_vec) ** 2)) * gender_vec\n",
    "    word_embed_debiased = word_embed - embed_bias_component\n",
    "    \n",
    "    return word_embed_debiased\n",
    "    \n",
    "\n",
    "\n",
    "\n",
    "\n",
    "    \n",
    "    \n",
    "    "
   ]
  },
  {
   "cell_type": "code",
   "execution_count": 19,
   "metadata": {
    "collapsed": true
   },
   "outputs": [],
   "source": [
    "def equalize_gender_embeddings(word_pair, gender_vec, word_vec_dict):\n",
    "    \n",
    "    word_a, word_b = word_pair\n",
    "    word_a_embed = word_vec_dict[word_a]\n",
    "    word_b_embed = word_vec_dict[word_b]\n",
    "    \n",
    "    embed_mean = (word_a_embed + word_b_embed) / 2\n",
    "    \n",
    "    embed_bias_axis = (np.dot(embed_mean, gender_vec) / np.linalg.norm(gender_vec ** 2)) * gender_vec\n",
    "    embed_orthogonal_axis = embed_mean - embed_bias_axis\n",
    "    \n",
    "    word_a_embed_bias = (np.dot(word_a_embed, gender_vec) / np.linalg.norm(gender_vec ** 2)) * gender_vec\n",
    "    word_b_embed_bias = (np.dot(word_b_embed, gender_vec) / np.linalg.norm(gender_vec ** 2)) * gender_vec\n",
    "    \n",
    "    \n",
    "    word_a_embed_equalized = (np.sqrt(abs(1-np.linalg.norm(embed_orthogonal_axis) ** 2)) / np.linalg.norm(word_a_embed-embed_orthogonal_axis-embed_bias_axis)) * (word_a_embed_bias - embed_bias_axis)\n",
    "    word_b_embed_equalized = (np.sqrt(abs(1-np.linalg.norm(embed_orthogonal_axis) ** 2)) / np.linalg.norm(word_b_embed-embed_orthogonal_axis-embed_bias_axis)) * (word_b_embed_bias - embed_bias_axis)\n",
    "    \n",
    "    word_a_embed_equalized += embed_orthogonal_axis\n",
    "    word_b_embed_equalized += embed_orthogonal_axis\n",
    "    \n",
    "   \n",
    "    return word_a_embed_equalized, word_b_embed_equalized"
   ]
  },
  {
   "cell_type": "code",
   "execution_count": null,
   "metadata": {
    "collapsed": true
   },
   "outputs": [],
   "source": []
  }
 ],
 "metadata": {
  "kernelspec": {
   "display_name": "Python 3",
   "language": "python",
   "name": "python3"
  },
  "language_info": {
   "codemirror_mode": {
    "name": "ipython",
    "version": 3
   },
   "file_extension": ".py",
   "mimetype": "text/x-python",
   "name": "python",
   "nbconvert_exporter": "python",
   "pygments_lexer": "ipython3",
   "version": "3.6.0"
  }
 },
 "nbformat": 4,
 "nbformat_minor": 2
}
